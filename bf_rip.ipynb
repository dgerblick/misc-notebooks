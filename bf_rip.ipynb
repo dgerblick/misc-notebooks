{
 "cells": [
  {
   "cell_type": "code",
   "execution_count": 1,
   "metadata": {},
   "outputs": [],
   "source": [
    "import os\n",
    "import sys\n",
    "module_path = os.path.abspath(os.path.join('..'))\n",
    "if module_path not in sys.path:\n",
    "    sys.path.append(module_path)\n",
    "from msh_chunk import Chunk\n",
    "from model import Model, Vert\n",
    "\n",
    "from PIL import Image\n",
    "import struct\n",
    "import glm\n",
    "import moderngl as mgl\n",
    "from pathlib import Path\n",
    "from ipywidgets import interact\n",
    "from IPython import display"
   ]
  },
  {
   "cell_type": "code",
   "execution_count": 2,
   "metadata": {},
   "outputs": [],
   "source": [
    "# If ctx is already defined, do nothing\n",
    "try:\n",
    "    ctx\n",
    "except NameError:\n",
    "    ctx = mgl.create_context(standalone=True)\n",
    "ctx.gc_mode = 'auto'\n",
    "ctx.enable(mgl.DEPTH_TEST | mgl.CULL_FACE | mgl.BLEND)"
   ]
  },
  {
   "cell_type": "code",
   "execution_count": 3,
   "metadata": {},
   "outputs": [
    {
     "name": "stdout",
     "output_type": "stream",
     "text": [
      "HEDR:\n",
      "    MSH2:\n",
      "        SINF:\n",
      "            NAME: rep_hover_fightertank\n",
      "            FRAM: 00 00 00 00 01 00 00 00 9f c2 ef 41\n",
      "            BBOX: <len: 44>\n",
      "        MATL:\n",
      "            MATD:\n",
      "                NAME: default_material\n",
      "                DATA: <len: 52>\n",
      "                ATRB: 04 00 00 00\n",
      "            MATD:\n",
      "                NAME: material1\n",
      "                DATA: <len: 52>\n",
      "                ATRB: 00 1b 00 00\n",
      "                TX0D: rep_hover_fightertank.tga\n",
      "                TX1D: rep_hover_fightertank_bump.tga\n",
      "        MODL:\n",
      "            MTYP: 0\n",
      "            MNDX: 0\n",
      "            NAME: dummyroot\n",
      "            FLGS: 1\n",
      "            TRAN: <len: 40>\n",
      "        MODL:\n",
      "            MTYP: 3\n",
      "            MNDX: 1\n",
      "            NAME: bone_root\n",
      "            PRNT: dummyroot\n",
      "            FLGS: 1\n",
      "            TRAN: <len: 40>\n",
      "        MODL:\n",
      "            MTYP: 3\n",
      "            MNDX: 2\n",
      "            NAME: bone_tankski_R\n",
      "            PRNT: bone_root\n",
      "            FLGS: 1\n",
      "            TRAN: <len: 40>\n",
      "        MODL:\n",
      "            MTYP: 3\n",
      "            MNDX: 3\n",
      "            NAME: bone_winglet_R\n",
      "            PRNT: bone_tankski_R\n",
      "            FLGS: 1\n",
      "            TRAN: <len: 40>\n",
      "        MODL:\n",
      "            MTYP: 0\n",
      "            MNDX: 4\n",
      "            NAME: hp_damage_6\n",
      "            PRNT: bone_winglet_R\n",
      "            FLGS: 1\n",
      "            TRAN: <len: 40>\n",
      "        MODL:\n",
      "            MTYP: 0\n",
      "            MNDX: 5\n",
      "            NAME: hp_missile_2\n",
      "            PRNT: bone_tankski_R\n",
      "            FLGS: 1\n",
      "            TRAN: <len: 40>\n",
      "        MODL:\n",
      "            MTYP: 3\n",
      "            MNDX: 6\n",
      "            NAME: bone_tankski_L\n",
      "            PRNT: bone_root\n",
      "            FLGS: 1\n",
      "            TRAN: <len: 40>\n",
      "        MODL:\n",
      "            MTYP: 3\n",
      "            MNDX: 7\n",
      "            NAME: bone_winglet_L\n",
      "            PRNT: bone_tankski_L\n",
      "            FLGS: 1\n",
      "            TRAN: <len: 40>\n",
      "        MODL:\n",
      "            MTYP: 0\n",
      "            MNDX: 8\n",
      "            NAME: hp_damage_5\n",
      "            PRNT: bone_winglet_L\n",
      "            FLGS: 1\n",
      "            TRAN: <len: 40>\n",
      "        MODL:\n",
      "            MTYP: 0\n",
      "            MNDX: 9\n",
      "            NAME: hp_missile_1\n",
      "            PRNT: bone_tankski_L\n",
      "            FLGS: 1\n",
      "            TRAN: <len: 40>\n",
      "        MODL:\n",
      "            MTYP: 0\n",
      "            MNDX: 10\n",
      "            NAME: turret_y\n",
      "            PRNT: bone_root\n",
      "            FLGS: 1\n",
      "            TRAN: <len: 40>\n",
      "        MODL:\n",
      "            MTYP: 0\n",
      "            MNDX: 11\n",
      "            NAME: turret_x\n",
      "            PRNT: turret_y\n",
      "            FLGS: 1\n",
      "            TRAN: <len: 40>\n",
      "        MODL:\n",
      "            MTYP: 0\n",
      "            MNDX: 12\n",
      "            NAME: turret_barrel1\n",
      "            PRNT: turret_x\n",
      "            FLGS: 1\n",
      "            TRAN: <len: 40>\n",
      "        MODL:\n",
      "            MTYP: 0\n",
      "            MNDX: 13\n",
      "            NAME: hp_gun_1\n",
      "            PRNT: turret_barrel1\n",
      "            FLGS: 1\n",
      "            TRAN: <len: 40>\n",
      "        MODL:\n",
      "            MTYP: 0\n",
      "            MNDX: 14\n",
      "            NAME: hp_active\n",
      "            PRNT: turret_y\n",
      "            FLGS: 1\n",
      "            TRAN: <len: 40>\n",
      "        MODL:\n",
      "            MTYP: 0\n",
      "            MNDX: 15\n",
      "            NAME: lgun_x\n",
      "            PRNT: bone_root\n",
      "            FLGS: 1\n",
      "            TRAN: <len: 40>\n",
      "        MODL:\n",
      "            MTYP: 0\n",
      "            MNDX: 16\n",
      "            NAME: lgun_y\n",
      "            PRNT: lgun_x\n",
      "            FLGS: 1\n",
      "            TRAN: <len: 40>\n",
      "        MODL:\n",
      "            MTYP: 0\n",
      "            MNDX: 17\n",
      "            NAME: Turret_1\n",
      "            PRNT: lgun_y\n",
      "            FLGS: 1\n",
      "            TRAN: <len: 40>\n",
      "        MODL:\n",
      "            MTYP: 0\n",
      "            MNDX: 18\n",
      "            NAME: hp_cannon_1\n",
      "            PRNT: Turret_1\n",
      "            FLGS: 1\n",
      "            TRAN: <len: 40>\n",
      "        MODL:\n",
      "            MTYP: 0\n",
      "            MNDX: 19\n",
      "            NAME: rgun_x\n",
      "            PRNT: bone_root\n",
      "            FLGS: 1\n",
      "            TRAN: <len: 40>\n",
      "        MODL:\n",
      "            MTYP: 0\n",
      "            MNDX: 20\n",
      "            NAME: Rgun_y\n",
      "            PRNT: rgun_x\n",
      "            FLGS: 1\n",
      "            TRAN: <len: 40>\n",
      "        MODL:\n",
      "            MTYP: 0\n",
      "            MNDX: 21\n",
      "            NAME: Turret_2\n",
      "            PRNT: Rgun_y\n",
      "            FLGS: 1\n",
      "            TRAN: <len: 40>\n",
      "        MODL:\n",
      "            MTYP: 0\n",
      "            MNDX: 22\n",
      "            NAME: hp_cannon_2\n",
      "            PRNT: Turret_2\n",
      "            FLGS: 1\n",
      "            TRAN: <len: 40>\n",
      "        MODL:\n",
      "            MTYP: 0\n",
      "            MNDX: 23\n",
      "            NAME: hp_damage_1\n",
      "            PRNT: bone_root\n",
      "            FLGS: 1\n",
      "            TRAN: <len: 40>\n",
      "        MODL:\n",
      "            MTYP: 0\n",
      "            MNDX: 24\n",
      "            NAME: hp_damage_2\n",
      "            PRNT: bone_root\n",
      "            FLGS: 1\n",
      "            TRAN: <len: 40>\n",
      "        MODL:\n",
      "            MTYP: 0\n",
      "            MNDX: 25\n",
      "            NAME: hp_damage_3\n",
      "            PRNT: bone_root\n",
      "            FLGS: 1\n",
      "            TRAN: <len: 40>\n",
      "        MODL:\n",
      "            MTYP: 0\n",
      "            MNDX: 26\n",
      "            NAME: hp_damage_4\n",
      "            PRNT: bone_root\n",
      "            FLGS: 1\n",
      "            TRAN: <len: 40>\n",
      "        MODL:\n",
      "            MTYP: 0\n",
      "            MNDX: 27\n",
      "            NAME: collision\n",
      "            PRNT: bone_root\n",
      "            FLGS: 1\n",
      "            TRAN: <len: 40>\n",
      "        MODL:\n",
      "            MTYP: 1\n",
      "            MNDX: 28\n",
      "            NAME: mesh_part1\n",
      "            PRNT: dummyroot\n",
      "            TRAN: <len: 40>\n",
      "            GEOM:\n",
      "                BBOX: <len: 44>\n",
      "                SEGM:\n",
      "                    MATI: 1\n",
      "                    POSL: <len: 36964>\n",
      "                    WGHT: <len: 98564>\n",
      "                    NRML: <len: 36964>\n",
      "                    UV0L: <len: 24644>\n",
      "                    NDXL: <len: 33748>\n",
      "                    NDXT: <len: 12660>\n",
      "                    STRP: <len: 7120>\n",
      "                ENVL: <len: 60>\n",
      "    CL1L: \n"
     ]
    }
   ],
   "source": [
    "# file = Chunk('_lvl_pc/side/imp/msh/imp_fly_tiefighter.msh')\n",
    "file = Chunk('_lvl_pc/side/rep/msh/rep_hover_fightertank.msh')\n",
    "print(file.tree())"
   ]
  },
  {
   "cell_type": "code",
   "execution_count": 4,
   "metadata": {},
   "outputs": [
    {
     "name": "stdout",
     "output_type": "stream",
     "text": [
      "SEGM:\n",
      "    MATI: 1\n",
      "    POSL: <len: 36964>\n",
      "    WGHT: <len: 98564>\n",
      "    NRML: <len: 36964>\n",
      "    UV0L: <len: 24644>\n",
      "    NDXL: <len: 33748>\n",
      "    NDXT: <len: 12660>\n",
      "    STRP: <len: 7120>\n"
     ]
    }
   ],
   "source": [
    "segm = max(file.filter_all('SEGM'), key=lambda x: x.length)\n",
    "print(segm.tree())"
   ]
  },
  {
   "cell_type": "code",
   "execution_count": 5,
   "metadata": {},
   "outputs": [],
   "source": [
    "m = Model()\n",
    "\n",
    "vert_count = segm['POSL'].data_len()\n",
    "assert vert_count == segm['NRML'].data_len() and vert_count == segm['UV0L'].data_len()\n",
    "posl = struct.iter_unpack('<3f', segm['POSL'].data[4:4+12*vert_count])\n",
    "nrml = struct.iter_unpack('<3f', segm['NRML'].data[4:4+12*vert_count])\n",
    "uv0l = struct.iter_unpack('<2f', segm['UV0L'].data[4:4+8*vert_count])\n",
    "for pos, norm, uv in zip(posl, nrml, uv0l):\n",
    "    m.add_vert(Vert(glm.vec3(pos), glm.vec3(norm), glm.vec2(uv)))\n",
    "\n",
    "tri_count = segm['NDXT'].data_len()\n",
    "tris = struct.iter_unpack('<3H', segm['NDXT'].data[4:4+tri_count*6])\n",
    "for tri in tris:\n",
    "    m.add_tri(*tri)"
   ]
  },
  {
   "cell_type": "code",
   "execution_count": 6,
   "metadata": {},
   "outputs": [
    {
     "name": "stdout",
     "output_type": "stream",
     "text": [
      "Saved ./out/rep_hover_fightertank.obj\n",
      "Saved ./out/rep_hover_fightertank.stl\n"
     ]
    }
   ],
   "source": [
    "filename = './out/' + file.filter_all('SINF')[0]['NAME'].data.decode().rstrip('\\0')\n",
    "m.to_obj(filename + '.obj')\n",
    "print(f'Saved {filename}.obj')\n",
    "m.to_stl(filename + '.stl')\n",
    "print(f'Saved {filename}.stl')"
   ]
  },
  {
   "cell_type": "code",
   "execution_count": 7,
   "metadata": {},
   "outputs": [],
   "source": [
    "vert_src = Path('./shaders/vertex.glsl').read_text()\n",
    "frag_src = Path('./shaders/frag.glsl').read_text()\n",
    "prog = ctx.program(vertex_shader=vert_src, fragment_shader=frag_src)\n",
    "\n",
    "vbo_pos, vbo_norm, vbo_uv, ibo = m.buffers(ctx)\n",
    "\n",
    "vao = ctx.vertex_array(prog, [\n",
    "        (vbo_pos, '3f', 'iPos'),\n",
    "        (vbo_norm, '3f', 'iNorm'),\n",
    "    ],\n",
    "    index_buffer=ibo,\n",
    "    index_element_size=4\n",
    ")"
   ]
  },
  {
   "cell_type": "code",
   "execution_count": 8,
   "metadata": {},
   "outputs": [],
   "source": [
    "resolution = (512, 512)\n",
    "msaa = 4\n",
    "fbo = ctx.simple_framebuffer((resolution[0] * msaa, resolution[1] * msaa))"
   ]
  },
  {
   "cell_type": "code",
   "execution_count": 9,
   "metadata": {},
   "outputs": [
    {
     "data": {
      "image/png": "[encoded data removed]",
      "text/plain": [
       "<PIL.Image.Image image mode=RGB size=512x512>"
      ]
     },
     "execution_count": 9,
     "metadata": {},
     "output_type": "execute_result"
    }
   ],
   "source": [
    "model = glm.mat4(1)\n",
    "view = glm.lookAt((4, 4, 4), (0, 0, 0), (0, 1, 0))\n",
    "proj = glm.perspective(glm.radians(60), 1, 0.1, 100.0)\n",
    "modelView = view * model\n",
    "modelViewN = view * glm.transpose(glm.inverse(model))\n",
    "\n",
    "prog['lightPos'] = 50, 50, 0\n",
    "prog['lightAmb'] = 1, 1, 1\n",
    "prog['lightDiff'] = 1, 1, 1\n",
    "prog['lightSpec'] = 1, 1, 1\n",
    "prog['matAmb'] = 0.1, 0.1, 0.1\n",
    "prog['matDiff'] = 0.8, 0.8, 0.8\n",
    "prog['matSpec'] = 1.0, 1.0, 1.0\n",
    "prog['matShine'] = 128\n",
    "prog['modelView'].write(modelView.to_bytes())\n",
    "prog['modelViewN'].write(modelViewN.to_bytes())\n",
    "prog['proj'].write(proj.to_bytes())\n",
    "\n",
    "fbo.clear(0.2, 0.0, 0.0, 1)\n",
    "vao.render()\n",
    "img = Image.frombytes('RGB', fbo.size, fbo.read(), 'raw', 'RGB', 0, -1)\n",
    "img = img.reduce(msaa)\n",
    "img"
   ]
  },
  {
   "cell_type": "code",
   "execution_count": 10,
   "metadata": {},
   "outputs": [
    {
     "data": {
      "image/png": "[encoded data removed]",
      "text/plain": [
       "<PIL.Image.Image image mode=RGB size=512x512>"
      ]
     },
     "execution_count": 10,
     "metadata": {},
     "output_type": "execute_result"
    }
   ],
   "source": [
    "model = glm.mat4(1)\n",
    "view = glm.lookAt((4, 4, 4), (0, 0, 0), (0, 1, 0))\n",
    "proj = glm.perspective(glm.radians(60), 1, 0.1, 100.0)\n",
    "modelView = view * model\n",
    "modelViewN = view * glm.transpose(glm.inverse(model))\n",
    "\n",
    "prog['lightPos'] = 50, 50, 0\n",
    "prog['lightAmb'] = 1, 1, 1\n",
    "prog['lightDiff'] = 1, 1, 1\n",
    "prog['lightSpec'] = 1, 1, 1\n",
    "prog['matAmb'] = 0.1, 0.1, 0.1\n",
    "prog['matDiff'] = 0.8, 0.8, 0.8\n",
    "prog['matSpec'] = 1.0, 1.0, 1.0\n",
    "prog['matShine'] = 128\n",
    "prog['modelView'].write(modelView.to_bytes())\n",
    "prog['modelViewN'].write(modelViewN.to_bytes())\n",
    "prog['proj'].write(proj.to_bytes())\n",
    "\n",
    "fbo.use()\n",
    "fbo.clear(0.2, 0.0, 0.0, 1)\n",
    "vao.render()\n",
    "\n",
    "prog['modelViewN'].write(modelViewN.to_bytes())\n",
    "\n",
    "img = Image.frombytes('RGB', fbo.size, fbo.read(), 'raw', 'RGB', 0, -1)\n",
    "img = img.reduce(msaa)\n",
    "img"
   ]
  },
  {
   "cell_type": "code",
   "execution_count": 11,
   "metadata": {},
   "outputs": [
    {
     "data": {
      "application/vnd.jupyter.widget-view+json": {
       "model_id": "fd2a8f8b89a44cecb4806fa960d910d8",
       "version_major": 2,
       "version_minor": 0
      },
      "text/plain": [
       "interactive(children=(FloatSlider(value=6.928203230275509, description='radius', max=10.0, step=0.01), FloatSl…"
      ]
     },
     "metadata": {},
     "output_type": "display_data"
    }
   ],
   "source": [
    "default_pos = glm.vec3(4, 4, 4)\n",
    "default_radius = glm.sqrt(glm.dot(default_pos, default_pos))\n",
    "default_inclination = glm.pi() - glm.acos(default_pos.y / default_radius)\n",
    "default_azimuth = glm.sign(default_pos.z) * glm.acos(default_pos.x /\n",
    "                                                     (glm.sqrt(default_pos.x**2 + default_pos.z**2)))\n",
    "\n",
    "resolution = (1024, 768)\n",
    "msaa = 4\n",
    "fbo = ctx.simple_framebuffer((resolution[0] * msaa, resolution[1] * msaa))\n",
    "proj = glm.perspective(glm.radians(60), resolution[0] / resolution[1], 0.1, 100.0)\n",
    "prog['proj'].write(proj.to_bytes())\n",
    "\n",
    "@interact(radius=(0, 10, 0.01),\n",
    "          inclination=(0, glm.pi(), 0.01),\n",
    "          azimuth=(-glm.two_pi(), glm.two_pi(), 0.01),\n",
    "          center_x=(-5, 5, 0.01),\n",
    "          center_y=(-5, 5, 0.01),\n",
    "          center_z=(-5, 5, 0.01))\n",
    "def f(radius=default_radius, inclination=default_inclination, azimuth=default_azimuth, center_x=0, center_y=0, center_z=0):\n",
    "    center = glm.vec3(center_x, center_y, center_z)\n",
    "    offset = radius * glm.vec3(glm.sin(inclination) * glm.sin(-azimuth),\n",
    "                               -glm.cos(inclination),\n",
    "                               glm.sin(inclination) * glm.cos(-azimuth))\n",
    "\n",
    "    view = glm.lookAt(center + offset, center, (0, 1, 0))\n",
    "    modelView = view * model\n",
    "    modelViewN = view * glm.transpose(glm.inverse(model))\n",
    "    prog['modelView'].write(modelView.to_bytes())\n",
    "    prog['modelViewN'].write(modelViewN.to_bytes())\n",
    "\n",
    "    fbo.use()\n",
    "    fbo.clear(0.2, 0.0, 0.0, 1)\n",
    "    vao.render()\n",
    "    img = Image.frombytes('RGB', fbo.size, fbo.read(), 'raw', 'RGB', 0, -1)\n",
    "    img = img.reduce(msaa)\n",
    "    display.display(img)\n"
   ]
  },
  {
   "cell_type": "code",
   "execution_count": 12,
   "metadata": {},
   "outputs": [
    {
     "data": {
      "application/vnd.jupyter.widget-view+json": {
       "model_id": "bf687007ebfc47cb9837fd2b69c03206",
       "version_major": 2,
       "version_minor": 0
      },
      "text/plain": [
       "interactive(children=(FloatSlider(value=0.0, description='radius', max=10.0, step=0.01), FloatSlider(value=0.0…"
      ]
     },
     "metadata": {},
     "output_type": "display_data"
    }
   ],
   "source": [
    "from ipywidgets import interact\n",
    "import ipywidgets as widgets\n",
    "import numpy as np\n",
    "from IPython import display\n",
    "\n",
    "\n",
    "@interact(radius=(0, 10, 0.01),\n",
    "          azimuth=(0, 2*np.pi, 0.01),\n",
    "          polar=(-np.pi, np.pi, 0.01),\n",
    "          center_x=(-5, 5, 0.01),\n",
    "          center_y=(-5, 5, 0.01),\n",
    "          center_z=(-5, 5, 0.01))\n",
    "def f(radius=0, azimuth=0,      polar=0,      center_x=0,      center_y=0,      center_z=0):\n",
    "    fbo.clear(0.2, 0.0, 0.0, 1)\n",
    "    vao.render()\n",
    "    img = Image.frombytes('RGB', fbo.size, fbo.read(), 'raw', 'RGB', 0, -1)\n",
    "    img = img.reduce(msaa)\n",
    "    display.display(img)\n"
   ]
  },
  {
   "cell_type": "code",
   "execution_count": 13,
   "metadata": {},
   "outputs": [],
   "source": [
    "# https://dspace5.zcu.cz/bitstream/11025/11198/1/Mao.pdf"
   ]
  }
 ],
 "metadata": {
  "kernelspec": {
   "display_name": "Python 3 (ipykernel)",
   "language": "python",
   "name": "python3"
  },
  "language_info": {
   "codemirror_mode": {
    "name": "ipython",
    "version": 3
   },
   "file_extension": ".py",
   "mimetype": "text/x-python",
   "name": "python",
   "nbconvert_exporter": "python",
   "pygments_lexer": "ipython3",
   "version": "3.11.1"
  },
  "orig_nbformat": 4,
  "vscode": {
   "interpreter": {
    "hash": "90e2ccca8718d822dbde259520af67705ca5d678fc14e6096bac00a7d343c0c8"
   }
  }
 },
 "nbformat": 4,
 "nbformat_minor": 2
}
